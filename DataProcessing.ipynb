{
 "cells": [
  {
   "cell_type": "markdown",
   "metadata": {},
   "source": [
    "## Loading\n",
    "\n",
    "The first step is to load the functions from utils."
   ]
  },
  {
   "cell_type": "code",
   "execution_count": 1,
   "metadata": {},
   "outputs": [],
   "source": [
    "from utils import split_images_and_extract_channels"
   ]
  },
  {
   "cell_type": "markdown",
   "metadata": {},
   "source": [
    "## Split images and extract channel(s) "
   ]
  },
  {
   "cell_type": "code",
   "execution_count": 4,
   "metadata": {
    "scrolled": false
   },
   "outputs": [],
   "source": [
    "# folder with input images\n",
    "input_image_dir = '../DeepLearningBasedSegmentationForBiologists/data/AnnotatedNuclei/images/'\n",
    "\n",
    "# folder with output images\n",
    "output_image_dir = './datasets/Nuclei_polyps/training/images/'\n",
    "\n",
    "# channels to be extracted\n",
    "channels = [0]\n",
    "\n",
    "# image size\n",
    "imaging_field = 256\n",
    "\n",
    "# call function\n",
    "split_images_and_extract_channels(input_image_dir, output_image_dir, channels, imaging_field)"
   ]
  },
  {
   "cell_type": "code",
   "execution_count": null,
   "metadata": {},
   "outputs": [],
   "source": []
  }
 ],
 "metadata": {
  "kernelspec": {
   "display_name": "Python 3",
   "language": "python",
   "name": "python3"
  },
  "language_info": {
   "codemirror_mode": {
    "name": "ipython",
    "version": 3
   },
   "file_extension": ".py",
   "mimetype": "text/x-python",
   "name": "python",
   "nbconvert_exporter": "python",
   "pygments_lexer": "ipython3",
   "version": "3.6.9"
  }
 },
 "nbformat": 4,
 "nbformat_minor": 1
}
