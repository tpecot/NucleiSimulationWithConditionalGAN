{
 "cells": [
  {
   "cell_type": "markdown",
   "metadata": {},
   "source": [
    "## Loading\n",
    "\n",
    "The first step is to load the libraries and functions we need."
   ]
  },
  {
   "cell_type": "code",
   "execution_count": 1,
   "metadata": {},
   "outputs": [],
   "source": [
    "from utils import generate_images"
   ]
  },
  {
   "cell_type": "markdown",
   "metadata": {},
   "source": [
    "## Setting parameters\n",
    "\n",
    "The second step is to define the parameters required to run a model."
   ]
  },
  {
   "cell_type": "code",
   "execution_count": 2,
   "metadata": {},
   "outputs": [],
   "source": [
    "########################\n",
    "# Image and model parameters\n",
    "########################\n",
    "# location of folder with images to be segmented\n",
    "input_masks_dir = \"./datasets/Simulated_masks/ellipses_100/\"\n",
    "\n",
    "# generator location and name\n",
    "generator_path = \"./trainedClassifiers/Nuclei_polyps/Polyps_256_500epochs.h5\"\n",
    "\n",
    "# number of channels for images and masks\n",
    "nb_channels_images = 1\n",
    "nb_channels_masks = 1\n",
    "\n",
    "# imaging field dimension\n",
    "imaging_field = 256\n",
    "\n",
    "########################\n",
    "# Output parameters\n",
    "########################\n",
    "# location of folders with generated images and corresponding masks\n",
    "output_dir_images = './datasets/Simulated_images/ellipses_100/images/'\n",
    "output_dir_masks = './datasets/Simulated_images/ellipses_100/masks/'"
   ]
  },
  {
   "cell_type": "markdown",
   "metadata": {},
   "source": [
    "## Synthesizing images\n",
    "\n",
    "Now, images can be generated."
   ]
  },
  {
   "cell_type": "code",
   "execution_count": 3,
   "metadata": {
    "scrolled": false
   },
   "outputs": [],
   "source": [
    "generate_images(input_masks_dir, nb_channels_images, nb_channels_masks, imaging_field,\n",
    "               generator_path, output_dir_images, output_dir_masks)"
   ]
  },
  {
   "cell_type": "code",
   "execution_count": null,
   "metadata": {},
   "outputs": [],
   "source": []
  }
 ],
 "metadata": {
  "kernelspec": {
   "display_name": "Python 3",
   "language": "python",
   "name": "python3"
  },
  "language_info": {
   "codemirror_mode": {
    "name": "ipython",
    "version": 3
   },
   "file_extension": ".py",
   "mimetype": "text/x-python",
   "name": "python",
   "nbconvert_exporter": "python",
   "pygments_lexer": "ipython3",
   "version": "3.6.9"
  }
 },
 "nbformat": 4,
 "nbformat_minor": 1
}
